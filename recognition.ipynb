{
 "cells": [
  {
   "cell_type": "code",
   "execution_count": 1,
   "metadata": {},
   "outputs": [],
   "source": [
    "import numpy as np\n",
    "import pandas as pd\n",
    "import seaborn as sns\n",
    "import matplotlib.pyplot as plt\n",
    "from sklearn.ensemble import RandomForestClassifier\n",
    "from sklearn.svm import SVC\n",
    "from sklearn import svm\n",
    "from sklearn.neural_network import MLPClassifier\n",
    "from sklearn.metrics import confusion_matrix,classification_report\n",
    "from sklearn.preprocessing import StandardScaler,LabelEncoder\n",
    "from sklearn.model_selection import train_test_split\n",
    "%matplotlib inline"
   ]
  },
  {
   "cell_type": "code",
   "execution_count": 2,
   "metadata": {},
   "outputs": [],
   "source": [
    "#data loading\n",
    "data = pd.read_csv('TestData.csv',sep=',')"
   ]
  },
  {
   "cell_type": "code",
   "execution_count": 3,
   "metadata": {},
   "outputs": [],
   "source": [
    "#enlever les colonnes U0.......U20\n",
    "data=data.iloc[0:,19:]"
   ]
  },
  {
   "cell_type": "code",
   "execution_count": 4,
   "metadata": {},
   "outputs": [
    {
     "data": {
      "text/plain": [
       "1559"
      ]
     },
     "execution_count": 4,
     "metadata": {},
     "output_type": "execute_result"
    }
   ],
   "source": [
    "#verifier si les données sont valide\n",
    "#data.isnull().sum()\n",
    "len(data)"
   ]
  },
  {
   "cell_type": "code",
   "execution_count": 5,
   "metadata": {},
   "outputs": [],
   "source": [
    "#permet de rapprocher les valeurs un peu près comme normalisation\n",
    "#label_Classe= LabelEncoder() \n",
    "#data['Classe']=label_Classe.fit_transform(data['Classe'])#utile pour normaliser les valeurs des classes"
   ]
  },
  {
   "cell_type": "code",
   "execution_count": 6,
   "metadata": {},
   "outputs": [],
   "source": [
    "# data.tail(10)"
   ]
  },
  {
   "cell_type": "code",
   "execution_count": 7,
   "metadata": {},
   "outputs": [],
   "source": [
    "# #permet de compter le nombre de répetition de chaque classe\n",
    "# data['Classe'].value_counts()"
   ]
  },
  {
   "cell_type": "code",
   "execution_count": 8,
   "metadata": {},
   "outputs": [
    {
     "data": {
      "text/plain": [
       "<matplotlib.axes._subplots.AxesSubplot at 0x19e8848f888>"
      ]
     },
     "execution_count": 8,
     "metadata": {},
     "output_type": "execute_result"
    },
    {
     "data": {
      "image/png": "[encoded data removed]",
      "text/plain": [
       "<Figure size 432x288 with 1 Axes>"
      ]
     },
     "metadata": {
      "needs_background": "light"
     },
     "output_type": "display_data"
    }
   ],
   "source": [
    "sns.countplot(data['Classe'])"
   ]
  },
  {
   "cell_type": "code",
   "execution_count": 9,
   "metadata": {},
   "outputs": [],
   "source": [
    "X =data.drop('Classe',axis=1)  # dans x on garde toutes les colonnes sauf la classe\n",
    "Y =data['Classe'] # dans y on garde la classe"
   ]
  },
  {
   "cell_type": "code",
   "execution_count": 10,
   "metadata": {},
   "outputs": [],
   "source": [
    "#on divisie notre dataSet en 2 parties une pour l'entrainement et une pour le test\n",
    "X_train,X_test,Y_train,Y_test= train_test_split(X,Y,test_size=0.25,random_state=42)"
   ]
  },
  {
   "cell_type": "code",
   "execution_count": 11,
   "metadata": {},
   "outputs": [],
   "source": [
    "# X_test\n",
    "# Y_test\n"
   ]
  },
  {
   "cell_type": "markdown",
   "metadata": {},
   "source": [
    "<!-- \n",
    "## Random Forest Classifier\n",
    "Définition : est une technique d'apprentissage automatique, elle se base sur une forêt d'arbre de décision\n",
    "chaque arbre de décision fournit ça propre décision , ainsi un vote est fait et la décision qu'à le plus de vote est élu comme décision final de l'arbre.\n",
    "\n",
    "### Avantages\n",
    "- ils sont utilsé dans la classification et la régression\n",
    "- gére et maintient la précision pour les données manquants\n",
    "- quand le nombre d'arbres est plus grand que le nombres de donnée  dans le dataSet il est garanti  qu'il n y aura pas de sur-apprentissage a cause du system de bagging et sous-espaces aléatoires \n",
    "- gére des grand dataset avec de grandes dimension\n",
    "\n",
    "### Inconvénients\n",
    "- malgré qu'ils sont utile pour la classification , ils le sont moins que pour la régression du faite qu'il nous donne pas des valeurs pour savoir a quel pourcentage un element est de classe A ou B , en effet il répond il est de classe A ou de classe B , mais on ne sais pas a quel point.\n",
    "- on a pas de controle sur ce que fait le modèle\n",
    "\n",
    "### Application\n",
    "- le secteur des banques , dans l'évaluation des risque\n",
    "- les gains/pertes dans le domaine de la bourse\n",
    "- ....\n",
    "\n",
    "### mots clés \n",
    "\n",
    "- Bagging : est un meta algorithm d'ensemble , qui augmente la stabilité et réduit la variance, les données sont piochées aléatoirement et mis dans des sous ensemble, a chaque entrainement le modèle utilise un sous ensemble totalement différent pour éviter le sur-apprentissage \n",
    "\n",
    "## Exemple -->"
   ]
  },
  {
   "cell_type": "code",
   "execution_count": 19,
   "metadata": {},
   "outputs": [],
   "source": [
    "#ici on a choisi juste 6 arbres étant donné que la taille de notre data set n'est pas grande\n",
    "rfc = RandomForestClassifier(n_estimators=10) \n",
    "rfc.fit(X_train,Y_train)\n",
    "pred_rfc=rfc.predict(X_test)"
   ]
  },
  {
   "cell_type": "code",
   "execution_count": 16,
   "metadata": {},
   "outputs": [],
   "source": [
    "# print(pred_rfc)"
   ]
  },
  {
   "cell_type": "markdown",
   "metadata": {},
   "source": [
    "<!-- # analyse du rapport de la classification :\n",
    "     - on peut voir la précision du model, après avoir été entrainé sur notre DataSet\n",
    "     - on peut aussi voir la précision de classification de chaque classe comparé aux autres par exemple les classe de 3 a 9 sont a 100% détéctées contrairement 0 1 et 2 que le modèle les confends avec un taux pas très élever .\n",
    "     - on peut aussi voir les rappels de chaque classe c'est a dire quel proportion de résultats positif réels a été identifié correctement. -->"
   ]
  },
  {
   "cell_type": "code",
   "execution_count": 20,
   "metadata": {},
   "outputs": [
    {
     "name": "stdout",
     "output_type": "stream",
     "text": [
      "              precision    recall  f1-score   support\n",
      "\n",
      "           0       0.80      1.00      0.89         8\n",
      "           1       0.90      1.00      0.95         9\n",
      "           2       0.92      1.00      0.96        12\n",
      "           3       0.90      1.00      0.95         9\n",
      "           4       1.00      1.00      1.00         3\n",
      "           5       0.92      1.00      0.96        12\n",
      "           6       1.00      1.00      1.00        10\n",
      "           7       1.00      1.00      1.00        16\n",
      "           8       1.00      1.00      1.00        12\n",
      "           9       1.00      1.00      1.00        13\n",
      "           a       0.91      0.91      0.91        11\n",
      "           b       1.00      0.82      0.90        11\n",
      "           c       1.00      0.88      0.93        16\n",
      "           d       1.00      0.82      0.90        11\n",
      "           e       0.88      1.00      0.93         7\n",
      "           f       0.94      1.00      0.97        15\n",
      "           g       1.00      1.00      1.00        13\n",
      "           h       0.93      1.00      0.96        13\n",
      "           i       1.00      1.00      1.00        11\n",
      "           j       1.00      1.00      1.00         9\n",
      "           k       1.00      0.92      0.96        12\n",
      "           l       1.00      0.91      0.95        11\n",
      "           m       1.00      1.00      1.00         9\n",
      "           n       1.00      0.70      0.82        10\n",
      "           o       0.93      0.93      0.93        14\n",
      "           p       1.00      1.00      1.00        10\n",
      "           q       1.00      0.93      0.97        15\n",
      "           r       0.82      1.00      0.90         9\n",
      "           s       1.00      0.94      0.97        16\n",
      "           u       1.00      1.00      1.00        15\n",
      "           v       0.92      1.00      0.96        11\n",
      "           w       1.00      1.00      1.00         6\n",
      "           x       0.67      1.00      0.80         4\n",
      "           y       1.00      1.00      1.00        13\n",
      "           z       1.00      0.93      0.96        14\n",
      "\n",
      "    accuracy                           0.96       390\n",
      "   macro avg       0.96      0.96      0.95       390\n",
      "weighted avg       0.96      0.96      0.96       390\n",
      "\n"
     ]
    }
   ],
   "source": [
    "\n",
    "print(classification_report(Y_test,pred_rfc))"
   ]
  },
  {
   "cell_type": "markdown",
   "metadata": {},
   "source": [
    "<!-- # analyse de la matrice de confusion -->"
   ]
  },
  {
   "cell_type": "code",
   "execution_count": 21,
   "metadata": {},
   "outputs": [
    {
     "name": "stdout",
     "output_type": "stream",
     "text": [
      "[[ 8  0  0 ...  0  0  0]\n",
      " [ 0  9  0 ...  0  0  0]\n",
      " [ 0  0 12 ...  0  0  0]\n",
      " ...\n",
      " [ 0  0  0 ...  4  0  0]\n",
      " [ 0  0  0 ...  0 13  0]\n",
      " [ 0  0  0 ...  0  0 13]]\n"
     ]
    }
   ],
   "source": [
    "print(confusion_matrix(Y_test,pred_rfc ))"
   ]
  },
  {
   "cell_type": "markdown",
   "metadata": {},
   "source": [
    "<!-- la matrice de confusion permet d'analyser la qualité d'un système de classification, comme son nom l'indique elle determine le niveau de confusion entre classe\n",
    "les lignes c'est l'entré et les colonnes c'est le résultat de la classification par exemple :\n",
    "- (0,0) => trois 0 ont été classé comme des 0 (Vrai positif)\n",
    "- (0,X) => il y a jamais eu de confusion de la classe 0 avec d'autres caractère (Vrai Négatif)\n",
    "- (X,0) => il y a eu un 8 et un 6 , réels qui ont été confondu avec 0 (Faux positifs)\n",
    "ainsi plus la matrice est proche d'une matrice diagonale plus le système de classification est bon. -->"
   ]
  },
  {
   "cell_type": "markdown",
   "metadata": {},
   "source": [
    "<!-- \n",
    "## Support Vector Machine\n",
    "### Définition :\n",
    "les machines à vecteurs de support  sont des techniques d'apprentissage supervisé utilisé pour résoudre des problèmes de classification et de regressions, ils ont été développés dans les années 90 à partir des reflexions de Vladimir Vapnik ,\n",
    "ils ont été rapidement implémenté pour leur capacité à s'adapter avec des données de grandes dimensions et pour leur résultats fiables. il parait que les performances des SVM est d'ordre au moins égales a celui des réseaux de neurones, leurs principes est simple il se base sur une marge maximale pour séparrer les différentes classes, ainsi il offre une soupplesse permettant de mieux classifier.\n",
    "![title](svm.png)\n",
    "\n",
    "\n",
    "la marge maximale est la procédure qui cherche un hyperplan séparateur entre les classes,ça se fait par le biais d'une discrimination linéare ce qui limite les problèmes qu'on peut résoudre avec les svm, ainsi pour remédier au problème de l'abscence d'un séparateur linéaire l'idée est de reconsidérer le problème dans un espace de dimension supérieure, éventuellement infinie, dans cet espace il est fort probable qu'il existe une séparation linéaire.\n",
    "![title](svmNonLinear.png) -->"
   ]
  },
  {
   "cell_type": "markdown",
   "metadata": {},
   "source": [
    "<!-- ### les avantages\n",
    "- Sa grande précision de prédiction \n",
    "- Fonctionne bien sur de plus petits data sets \n",
    "- Ils peuvent être plus efficace car ils utilisent un sous-ensemble de points d’entraînement.\n",
    "\n",
    "### Les inconvénients\n",
    "- Ne convient pas à des jeux de données plus volumineux, car le temps d’entraînement avec les SVM peut être long\n",
    "- Moins efficace sur les jeux de données contenant du bruits et beaucoup d’outliers\n",
    "\n",
    "### Les applications\n",
    " - la détection de visages , les svm classifies les parties appartenantes au visage  et non appartenante jusqu'à définir un contour au tour du visage.\n",
    " - classifications des images \n",
    " - BioInformatique , classification du cancer , proteines et les gènes des patiens sur la base de g-nes et d'autres problèmes biologiques.\n",
    " - text et Hypertexte, il utilies les données de formations pour classer les documents en différentes catégories.\n",
    " - reconnaissance de l'écriture manuscrite, pour reconnaître les caractères manuscrits largement utilisés. -->"
   ]
  },
  {
   "cell_type": "code",
   "execution_count": 16,
   "metadata": {},
   "outputs": [],
   "source": [
    "#instanciation d'un classifier de type svm\n",
    "clf=svm.SVC()\n",
    "clf.fit(X_train,Y_train) #entrainement\n",
    "pred_clf = clf.predict(X_test)#prediction\n",
    "# pred_clf#affichage des résultats"
   ]
  },
  {
   "cell_type": "code",
   "execution_count": 17,
   "metadata": {},
   "outputs": [
    {
     "name": "stdout",
     "output_type": "stream",
     "text": [
      "              precision    recall  f1-score   support\n",
      "\n",
      "           0       0.89      1.00      0.94         8\n",
      "           1       1.00      1.00      1.00         9\n",
      "           2       1.00      1.00      1.00        12\n",
      "           3       1.00      1.00      1.00         9\n",
      "           4       0.50      1.00      0.67         3\n",
      "           5       0.80      1.00      0.89        12\n",
      "           6       1.00      0.80      0.89        10\n",
      "           7       1.00      1.00      1.00        16\n",
      "           8       1.00      1.00      1.00        12\n",
      "           9       1.00      1.00      1.00        13\n",
      "           a       0.73      0.73      0.73        11\n",
      "           b       1.00      0.64      0.78        11\n",
      "           c       0.93      0.81      0.87        16\n",
      "           d       0.73      0.73      0.73        11\n",
      "           e       0.64      1.00      0.78         7\n",
      "           f       1.00      1.00      1.00        15\n",
      "           g       1.00      0.92      0.96        13\n",
      "           h       0.93      1.00      0.96        13\n",
      "           i       0.85      1.00      0.92        11\n",
      "           j       1.00      1.00      1.00         9\n",
      "           k       1.00      1.00      1.00        12\n",
      "           l       1.00      0.82      0.90        11\n",
      "           m       1.00      1.00      1.00         9\n",
      "           n       1.00      0.80      0.89        10\n",
      "           o       0.93      0.93      0.93        14\n",
      "           p       1.00      1.00      1.00        10\n",
      "           q       1.00      1.00      1.00        15\n",
      "           r       1.00      1.00      1.00         9\n",
      "           s       0.80      0.75      0.77        16\n",
      "           u       0.83      0.67      0.74        15\n",
      "           v       0.79      1.00      0.88        11\n",
      "           w       1.00      1.00      1.00         6\n",
      "           x       0.80      1.00      0.89         4\n",
      "           y       0.92      0.92      0.92        13\n",
      "           z       1.00      0.93      0.96        14\n",
      "\n",
      "    accuracy                           0.92       390\n",
      "   macro avg       0.92      0.93      0.91       390\n",
      "weighted avg       0.93      0.92      0.92       390\n",
      "\n"
     ]
    }
   ],
   "source": [
    "print(classification_report(Y_test,pred_clf))"
   ]
  },
  {
   "cell_type": "code",
   "execution_count": 18,
   "metadata": {},
   "outputs": [
    {
     "name": "stdout",
     "output_type": "stream",
     "text": [
      "[[ 8  0  0 ...  0  0  0]\n",
      " [ 0  9  0 ...  0  0  0]\n",
      " [ 0  0 12 ...  0  0  0]\n",
      " ...\n",
      " [ 0  0  0 ...  4  0  0]\n",
      " [ 0  0  0 ...  0 12  0]\n",
      " [ 0  0  0 ...  0  0 13]]\n"
     ]
    }
   ],
   "source": [
    "print(confusion_matrix(Y_test,pred_clf ))"
   ]
  },
  {
   "cell_type": "code",
   "execution_count": 19,
   "metadata": {},
   "outputs": [],
   "source": [
    "# ## Neural Networks"
   ]
  },
  {
   "cell_type": "code",
   "execution_count": 20,
   "metadata": {},
   "outputs": [],
   "source": [
    "mlpc=MLPClassifier(hidden_layer_sizes=(52,52,52,52),max_iter=300)\n",
    "mlpc.fit(X_train,Y_train)\n",
    "pred_mlpc=mlpc.predict(X_test)"
   ]
  },
  {
   "cell_type": "code",
   "execution_count": 21,
   "metadata": {},
   "outputs": [
    {
     "name": "stdout",
     "output_type": "stream",
     "text": [
      "              precision    recall  f1-score   support\n",
      "\n",
      "           0       0.73      1.00      0.84         8\n",
      "           1       0.90      1.00      0.95         9\n",
      "           2       1.00      1.00      1.00        12\n",
      "           3       0.89      0.89      0.89         9\n",
      "           4       1.00      1.00      1.00         3\n",
      "           5       1.00      1.00      1.00        12\n",
      "           6       1.00      0.90      0.95        10\n",
      "           7       0.93      0.88      0.90        16\n",
      "           8       1.00      1.00      1.00        12\n",
      "           9       1.00      1.00      1.00        13\n",
      "           a       0.71      0.91      0.80        11\n",
      "           b       0.77      0.91      0.83        11\n",
      "           c       0.82      0.88      0.85        16\n",
      "           d       0.89      0.73      0.80        11\n",
      "           e       1.00      0.86      0.92         7\n",
      "           f       0.88      1.00      0.94        15\n",
      "           g       1.00      0.92      0.96        13\n",
      "           h       1.00      1.00      1.00        13\n",
      "           i       1.00      1.00      1.00        11\n",
      "           j       1.00      0.78      0.88         9\n",
      "           k       0.92      0.92      0.92        12\n",
      "           l       1.00      0.82      0.90        11\n",
      "           m       1.00      1.00      1.00         9\n",
      "           n       1.00      0.80      0.89        10\n",
      "           o       1.00      0.93      0.96        14\n",
      "           p       1.00      1.00      1.00        10\n",
      "           q       0.93      0.93      0.93        15\n",
      "           r       1.00      0.89      0.94         9\n",
      "           s       0.82      0.88      0.85        16\n",
      "           u       0.76      0.87      0.81        15\n",
      "           v       1.00      1.00      1.00        11\n",
      "           w       1.00      1.00      1.00         6\n",
      "           x       1.00      1.00      1.00         4\n",
      "           y       0.80      0.92      0.86        13\n",
      "           z       1.00      0.79      0.88        14\n",
      "\n",
      "    accuracy                           0.92       390\n",
      "   macro avg       0.94      0.93      0.93       390\n",
      "weighted avg       0.93      0.92      0.92       390\n",
      "\n"
     ]
    }
   ],
   "source": [
    "print(classification_report(Y_test,pred_mlpc))"
   ]
  },
  {
   "cell_type": "code",
   "execution_count": 22,
   "metadata": {},
   "outputs": [
    {
     "name": "stdout",
     "output_type": "stream",
     "text": [
      "[[ 8  0  0 ...  0  0  0]\n",
      " [ 0  9  0 ...  0  0  0]\n",
      " [ 0  0 12 ...  0  0  0]\n",
      " ...\n",
      " [ 0  0  0 ...  4  0  0]\n",
      " [ 0  0  0 ...  0 12  0]\n",
      " [ 0  0  0 ...  0  2 11]]\n"
     ]
    }
   ],
   "source": [
    "print(confusion_matrix(Y_test,pred_mlpc))"
   ]
  },
  {
   "cell_type": "code",
   "execution_count": 23,
   "metadata": {},
   "outputs": [
    {
     "name": "stdout",
     "output_type": "stream",
     "text": [
      "resultat des supports vector machine est ['v']\n",
      "resultat des random Forest est ['0']\n",
      "resultat des réseaux de neurone est ['d']\n"
     ]
    }
   ],
   "source": [
    "#test sur la courbe de dessin d'un coeur\n",
    "Xnew = [[-0.212148,-0.267778,-0.29948,-0.318689,-0.298137,-0.391123,-0.39166,-0.332926,-0.196772,-0.226409,-0.195603,-0.202815,-0.197956,-0.208973,-0.104984,0.102056,0.0200263,-0.0977367,-0.170617,-0.201229,-0.185005,0.0131545,0.0665064,0.107744,0.0964449,0.118824,0.0557161,-0.156992,-0.196657,-0.36906,-0.436593,-0.455107,-0.44989,-0.452929,-0.28455,-0.350204,-0.201105,-0.00209173,-0.00731671,0.0740171,-0.143884,-0.125816]]\n",
    "predictionSVM = clf.predict(Xnew)\n",
    "predictionRandomForest = rfc.predict(Xnew)\n",
    "predictionNNetwork = mlpc.predict(Xnew)\n",
    "print(\"resultat des supports vector machine est {0}\".format( predictionSVM))\n",
    "print(\"resultat des random Forest est {0}\".format( predictionRandomForest))\n",
    "print(\"resultat des réseaux de neurone est {0}\".format( predictionNNetwork))"
   ]
  },
  {
   "cell_type": "code",
   "execution_count": 24,
   "metadata": {},
   "outputs": [
    {
     "name": "stdout",
     "output_type": "stream",
     "text": [
      "resultat des supports vector machine est ['s']\n",
      "resultat des random Forest est ['z']\n",
      "resultat des réseaux de neurone est ['s']\n"
     ]
    }
   ],
   "source": [
    "#test sur la courbe de dessin qui veut rien dire\n",
    "Xnimp = [[-0.0294851,-0.064682,-0.273215,-0.595678,-0.220103,0.378522,-0.400078,-0.35578,-0.040492,0.616864,0.616197,0.661188,0.449561,0.416236,0.58469,0.660481,0.200372,0.204854,0.182162,0.196112,0.183642,0.205821,0.276499,0.573018,0.368421,0.147905,-0.227499,-0.257756,-0.146887,-0.119801,-0.131482,-0.0680083,-0.232264,0.169472,-0.273578,-0.235035,-0.337031,-0.309138,-0.506114,-0.000494707,0.161768,0.108695]]\n",
    "predictionSVM = clf.predict(Xnimp)\n",
    "predictionRandomForest = rfc.predict(Xnimp)\n",
    "predictionNNetwork = mlpc.predict(Xnimp)\n",
    "print(\"resultat des supports vector machine est {0}\".format( predictionSVM))\n",
    "print(\"resultat des random Forest est {0}\".format( predictionRandomForest))\n",
    "print(\"resultat des réseaux de neurone est {0}\".format( predictionNNetwork))\n"
   ]
  },
  {
   "cell_type": "code",
   "execution_count": 25,
   "metadata": {},
   "outputs": [
    {
     "name": "stdout",
     "output_type": "stream",
     "text": [
      "resultat des supports vector machine est ['d']\n",
      "resultat des random Forest est ['w']\n",
      "resultat des réseaux de neurone est ['s']\n"
     ]
    }
   ],
   "source": [
    "Xnimp = [[-1.69542,-1.61095,-1.93158,-1.00243,-0.233962,-0.162112,-0.178638,-0.879728,-0.691134,-0.204658,0.496358,1.24291,1.04562,0.689167,0.876379,0.623441,0.413463,0.178772,0.0381133,0.221103,0.230957,-0.079965,-0.176698,-0.363037,-0.611726,-0.442484,-0.045591,0.448039,0.515504,-0.00861292,-0.0738913,0.104992,-0.0296348,-0.262394,-0.805621,-0.617863,-0.734866,-0.646168,0.124122,0.457031,0.356646,0.457506]]\n",
    "predictionSVM = clf.predict(Xnimp)\n",
    "predictionRandomForest = rfc.predict(Xnimp)\n",
    "predictionNNetwork = mlpc.predict(Xnimp)\n",
    "print(\"resultat des supports vector machine est {0}\".format( predictionSVM))\n",
    "print(\"resultat des random Forest est {0}\".format( predictionRandomForest))\n",
    "print(\"resultat des réseaux de neurone est {0}\".format( predictionNNetwork))\n",
    "\n",
    "\n"
   ]
  },
  {
   "cell_type": "code",
   "execution_count": null,
   "metadata": {},
   "outputs": [],
   "source": []
  }
 ],
 "metadata": {
  "kernelspec": {
   "display_name": "Python 3.7.6 64-bit ('base': conda)",
   "language": "python",
   "name": "python37664bitbaseconda9817c35b701a46e8b00010aaa52fe8e5"
  },
  "language_info": {
   "codemirror_mode": {
    "name": "ipython",
    "version": 3
   },
   "file_extension": ".py",
   "mimetype": "text/x-python",
   "name": "python",
   "nbconvert_exporter": "python",
   "pygments_lexer": "ipython3",
   "version": "3.7.6"
  }
 },
 "nbformat": 4,
 "nbformat_minor": 4
}
